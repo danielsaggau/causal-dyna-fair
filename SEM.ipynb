{
  "nbformat": 4,
  "nbformat_minor": 0,
  "metadata": {
    "colab": {
      "name": "Untitled31.ipynb",
      "provenance": [],
      "authorship_tag": "ABX9TyMW6JeQ8pIikMRp9yDTx/AP",
      "include_colab_link": true
    },
    "kernelspec": {
      "name": "python3",
      "display_name": "Python 3"
    },
    "language_info": {
      "name": "python"
    }
  },
  "cells": [
    {
      "cell_type": "markdown",
      "metadata": {
        "id": "view-in-github",
        "colab_type": "text"
      },
      "source": [
        "<a href=\"https://colab.research.google.com/github/danielsaggau/causal-dyna-fair/blob/master/SEM.ipynb\" target=\"_parent\"><img src=\"https://colab.research.google.com/assets/colab-badge.svg\" alt=\"Open In Colab\"/></a>"
      ]
    },
    {
      "cell_type": "code",
      "metadata": {
        "colab": {
          "base_uri": "https://localhost:8080/"
        },
        "id": "yGe4qTEmFHo1",
        "outputId": "88161d83-2dfc-4603-fc5d-f27f0422f69e"
      },
      "source": [
        "!git clone https://github.com/ecreager/causal-dyna-fair.git"
      ],
      "execution_count": null,
      "outputs": [
        {
          "output_type": "stream",
          "name": "stdout",
          "text": [
            "Cloning into 'causal-dyna-fair'...\n",
            "remote: Enumerating objects: 85, done.\u001b[K\n",
            "remote: Counting objects: 100% (85/85), done.\u001b[K\n",
            "remote: Compressing objects: 100% (78/78), done.\u001b[K\n",
            "remote: Total 85 (delta 27), reused 42 (delta 5), pack-reused 0\u001b[K\n",
            "Unpacking objects: 100% (85/85), done.\n"
          ]
        }
      ]
    },
    {
      "cell_type": "code",
      "metadata": {
        "colab": {
          "base_uri": "https://localhost:8080/"
        },
        "id": "aFIYO6xAFLV2",
        "outputId": "3fbe608e-5404-4661-bfbf-bdfbcdd9ca1b"
      },
      "source": [
        "%cd causal-dyna-fair\n",
        "import os\n",
        "import pickle\n",
        "import sys\n",
        "from typing import Dict\n",
        "\n",
        "from absl import app\n",
        "from absl import flags\n",
        "import gin\n",
        "import torch\n",
        "import structural_eqns as se\n",
        "from utils.policy import get_policy\n",
        "from utils.data import get_data_args"
      ],
      "execution_count": null,
      "outputs": [
        {
          "output_type": "stream",
          "name": "stdout",
          "text": [
            "[Errno 2] No such file or directory: 'causal-dyna-fair'\n",
            "/content/causal-dyna-fair\n"
          ]
        }
      ]
    },
    {
      "cell_type": "code",
      "metadata": {
        "id": "TRwvEc4XFgKN"
      },
      "source": [
        "class OneStepSimulation:\n",
        "    \"\"\"Runs simulation for one step of dynamics under Liu et al 2018 SCM.\"\"\"\n",
        "    def __init__(self,\n",
        "                 f_A: se.StructuralEqn,  # stochastic SE for group membership\n",
        "                 f_X: se.StructuralEqn,  # stochastic SE for indiv scores\n",
        "                 f_Y: se.StructuralEqn,  # stochastic SE for potential repayment\n",
        "                 f_T: se.StructuralEqn,  # SE for threshold loan policy\n",
        "                 f_Xtilde: se.StructuralEqn,  # SE for indiv score change\n",
        "                 f_u: se.StructuralEqn,  # SE for individual utility\n",
        "                 f_Umathcal: se.StructuralEqn,  # SE for avg instit. utility\n",
        "                 f_Deltaj: se.StructuralEqn,  # SE per-group avg score change\n",
        "                 ) -> None:\n",
        "        self.f_A = f_A\n",
        "        self.f_X = f_X\n",
        "        self.f_Y = f_Y\n",
        "        self.f_T = f_T\n",
        "        self.f_Xtilde = f_Xtilde\n",
        "        self.f_u = f_u\n",
        "        self.f_Deltaj = f_Deltaj\n",
        "        self.f_Umathcal = f_Umathcal"
      ],
      "execution_count": null,
      "outputs": []
    },
    {
      "cell_type": "code",
      "metadata": {
        "id": "EdQ53pmaFybZ"
      },
      "source": [
        "   def run(self, num_steps: int, num_samps: int) -> Dict:\n",
        "        \"\"\"Run simulation forward for num_steps and return all observables.\"\"\"\n",
        "        if num_steps != 1:\n",
        "            raise ValueError('Only one-step dynamics are currently supported.')\n",
        "        blank_tensor = torch.zeros(num_samps)\n",
        "        A = self.f_A(blank_tensor)\n",
        "        X = self.f_X(A)\n",
        "        Y = self.f_Y(X, A)\n",
        "        T = self.f_T(X, A)\n",
        "        Xtilde = self.f_Xtilde(X, Y, T)\n",
        "        u = self.f_u(Y, T)\n",
        "        Deltaj = self.f_Deltaj(X, Xtilde, A)\n",
        "        Umathcal = self.f_Umathcal(u)\n",
        "        return_dict = dict(\n",
        "            A=A,\n",
        "            X=X,\n",
        "            Y=Y,\n",
        "            T=T,\n",
        "            u=u,\n",
        "            Xtilde=Xtilde,\n",
        "            Deltaj=Deltaj,\n",
        "            Umathcal=Umathcal,\n",
        "            )\n",
        "        return return_dict"
      ],
      "execution_count": null,
      "outputs": []
    },
    {
      "cell_type": "code",
      "metadata": {
        "id": "UjwAUMhQF1iW"
      },
      "source": [
        "    def intervene(self, **kwargs):\n",
        "        \"\"\"Update attributes via intervention.\"\"\"\n",
        "        for k, v in kwargs.items():\n",
        "            setattr(self, k, v)"
      ],
      "execution_count": null,
      "outputs": []
    },
    {
      "cell_type": "code",
      "metadata": {
        "id": "mceDgq1gF5rP"
      },
      "source": [
        "def main(unused_argv):\n",
        "    \"\"\"Produces figures from Liu et al 2018 and save results.\"\"\"\n",
        "    del unused_argv\n",
        "    gin.parse_config_files_and_bindings([FLAGS.gin_file], FLAGS.gin_param)\n",
        "\n",
        "    seed = gin.query_parameter('%seed')\n",
        "    results_dir = gin.query_parameter('%results_dir')\n",
        "    results_dir = os.path.normpath(results_dir)\n",
        "    num_steps = gin.query_parameter('%num_steps')\n",
        "    num_samps = gin.query_parameter('%num_samps')\n",
        "    utility_repay = gin.query_parameter('%utility_repay')\n",
        "    utility_default = gin.query_parameter('%utility_default')\n",
        "    score_change_repay = gin.query_parameter('%score_change_repay')\n",
        "    score_change_default = gin.query_parameter('%score_change_default')\n",
        "    \n",
        "    torch.manual_seed(seed)\n",
        "    inv_cdfs, loan_repaid_probs, pis, group_size_ratio, scores_list, _ = \\\n",
        "            get_data_args()\n",
        "    import pdb\n",
        "    pdb.set_trace()\n",
        "\n",
        "    utils = (utility_default, utility_repay)\n",
        "    impact = (score_change_default, score_change_repay)\n",
        "    prob_A_equals_1 = group_size_ratio[-1]\n",
        "    f_A = se.IndivGroupMembership(prob_A_equals_1)\n",
        "    f_X = se.InvidScore(*inv_cdfs)\n",
        "    f_Y = se.RepayPotentialLoan(*loan_repaid_probs)\n",
        "    f_T = get_policy(loan_repaid_probs, pis, group_size_ratio, utils, impact,\n",
        "                     scores_list)\n",
        "    f_Xtilde = se.ScoreUpdate(*impact)\n",
        "    f_u = se.InstitUtil(*utils)\n",
        "    f_Umathcal = se.AvgInstitUtil()\n",
        "    f_Deltaj = se.AvgGroupScoreChange() \n",
        "\n",
        "    simulation = OneStepSimulation(\n",
        "f_A, f_X, f_Y, f_T, f_Xtilde, f_u, f_Umathcal, f_Deltaj,\n",
        "        )\n",
        "    results = simulation.run(num_steps, num_samps)\n",
        "    policy_name = gin.query_parameter('%policy_name')\n",
        "    situation = 'situation1' if (utility_default == -4) else 'situation2'\n",
        "    these_thresholds = {\n",
        "        situation:\n",
        "        {policy_name: [f_T.threshold_group_0, f_T.threshold_group_1]}\n",
        "    }\n",
        "    results['threshes'] = these_thresholds\n",
        "\n",
        "   # Finally, write results to disk\n",
        "    if not os.path.exists(results_dir):\n",
        "        os.makedirs(results_dir)\n",
        "\n",
        "    # for reproducibility, copy command and script contents to results\n",
        "    if results_dir not in ('.', ):\n",
        "        cmd = 'python ' + ' '.join(sys.argv)\n",
        "        with open(os.path.join(results_dir, 'command.sh'), 'w') as f:\n",
        "            f.write(cmd)\n",
        "        file_basename = os.path.basename(__file__)\n",
        "        this_script = open(__file__, 'r').readlines()\n",
        "        with open(os.path.join(results_dir, file_basename), 'w') as f:\n",
        "            f.write(''.join(this_script))\n",
        "\n",
        "    results_filename = os.path.join(results_dir, 'results.p')\n",
        "    with open(results_filename, 'wb') as f:\n",
        "        _ = pickle.dump(results, f)\n",
        "\n",
        "    # Finally, write gin config to disk\n",
        "    with open(os.path.join(results_dir, 'config.gin'), 'w') as f:\n",
        "        f.write(gin.operative_config_str())\n",
        "\n",
        "if __name__ == \"__main__\":\n",
        "    FLAGS = flags.FLAGS\n",
        "    flags.DEFINE_string(\n",
        "        'gin_file', './config/simulation.gin', 'Path of config file.')\n",
        "    flags.DEFINE_multi_string(\n",
        "        'gin_param', None, 'Newline separated list of Gin parameter bindings.')\n",
        "\n",
        "    app.run(main)\n"
      ],
      "execution_count": null,
      "outputs": []
    },
    {
      "cell_type": "code",
      "metadata": {
        "id": "dEY7dVRPGc1N"
      },
      "source": [
        ""
      ],
      "execution_count": null,
      "outputs": []
    }
  ]
}