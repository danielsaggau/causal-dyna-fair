{
  "nbformat": 4,
  "nbformat_minor": 0,
  "metadata": {
    "kernelspec": {
      "display_name": "Python 3",
      "language": "python",
      "name": "python3"
    },
    "language_info": {
      "codemirror_mode": {
        "name": "ipython",
        "version": 3
      },
      "file_extension": ".py",
      "mimetype": "text/x-python",
      "name": "python",
      "nbconvert_exporter": "python",
      "pygments_lexer": "ipython3",
      "version": "3.7.7"
    },
    "colab": {
      "name": "delayed_impact.ipynb",
      "provenance": [],
      "include_colab_link": true
    },
    "widgets": {
      "application/vnd.jupyter.widget-state+json": {
        "65be138ed04249e1bdaf6eda53fe6282": {
          "model_module": "@jupyter-widgets/controls",
          "model_name": "HBoxModel",
          "state": {
            "_view_name": "HBoxView",
            "_dom_classes": [],
            "_model_name": "HBoxModel",
            "_view_module": "@jupyter-widgets/controls",
            "_model_module_version": "1.5.0",
            "_view_count": null,
            "_view_module_version": "1.5.0",
            "box_style": "",
            "layout": "IPY_MODEL_4a3801350bb34970955e2fff2e03e9a7",
            "_model_module": "@jupyter-widgets/controls",
            "children": [
              "IPY_MODEL_11bbff26e3404fb7a3ebfab825ad90e3",
              "IPY_MODEL_cc33b363f92e48c0bb017a4bd5894b58"
            ]
          }
        },
        "4a3801350bb34970955e2fff2e03e9a7": {
          "model_module": "@jupyter-widgets/base",
          "model_name": "LayoutModel",
          "state": {
            "_view_name": "LayoutView",
            "grid_template_rows": null,
            "right": null,
            "justify_content": null,
            "_view_module": "@jupyter-widgets/base",
            "overflow": null,
            "_model_module_version": "1.2.0",
            "_view_count": null,
            "flex_flow": null,
            "width": null,
            "min_width": null,
            "border": null,
            "align_items": null,
            "bottom": null,
            "_model_module": "@jupyter-widgets/base",
            "top": null,
            "grid_column": null,
            "overflow_y": null,
            "overflow_x": null,
            "grid_auto_flow": null,
            "grid_area": null,
            "grid_template_columns": null,
            "flex": null,
            "_model_name": "LayoutModel",
            "justify_items": null,
            "grid_row": null,
            "max_height": null,
            "align_content": null,
            "visibility": null,
            "align_self": null,
            "height": null,
            "min_height": null,
            "padding": null,
            "grid_auto_rows": null,
            "grid_gap": null,
            "max_width": null,
            "order": null,
            "_view_module_version": "1.2.0",
            "grid_template_areas": null,
            "object_position": null,
            "object_fit": null,
            "grid_auto_columns": null,
            "margin": null,
            "display": null,
            "left": null
          }
        },
        "11bbff26e3404fb7a3ebfab825ad90e3": {
          "model_module": "@jupyter-widgets/controls",
          "model_name": "FloatProgressModel",
          "state": {
            "_view_name": "ProgressView",
            "style": "IPY_MODEL_9b3e7c1f877e48d48c60a7f200ea8a71",
            "_dom_classes": [],
            "description": "100%",
            "_model_name": "FloatProgressModel",
            "bar_style": "success",
            "max": 50,
            "_view_module": "@jupyter-widgets/controls",
            "_model_module_version": "1.5.0",
            "value": 50,
            "_view_count": null,
            "_view_module_version": "1.5.0",
            "orientation": "horizontal",
            "min": 0,
            "description_tooltip": null,
            "_model_module": "@jupyter-widgets/controls",
            "layout": "IPY_MODEL_94717e1b0d1e43b3a4538afdc54bc70c"
          }
        },
        "cc33b363f92e48c0bb017a4bd5894b58": {
          "model_module": "@jupyter-widgets/controls",
          "model_name": "HTMLModel",
          "state": {
            "_view_name": "HTMLView",
            "style": "IPY_MODEL_6c6c16f4e6014080b95b8e902f2bee29",
            "_dom_classes": [],
            "description": "",
            "_model_name": "HTMLModel",
            "placeholder": "​",
            "_view_module": "@jupyter-widgets/controls",
            "_model_module_version": "1.5.0",
            "value": " 50/50 [03:00&lt;00:00,  3.62s/it]",
            "_view_count": null,
            "_view_module_version": "1.5.0",
            "description_tooltip": null,
            "_model_module": "@jupyter-widgets/controls",
            "layout": "IPY_MODEL_365e94f2ee9f436ba1eb32a51e04a14e"
          }
        },
        "9b3e7c1f877e48d48c60a7f200ea8a71": {
          "model_module": "@jupyter-widgets/controls",
          "model_name": "ProgressStyleModel",
          "state": {
            "_view_name": "StyleView",
            "_model_name": "ProgressStyleModel",
            "description_width": "initial",
            "_view_module": "@jupyter-widgets/base",
            "_model_module_version": "1.5.0",
            "_view_count": null,
            "_view_module_version": "1.2.0",
            "bar_color": null,
            "_model_module": "@jupyter-widgets/controls"
          }
        },
        "94717e1b0d1e43b3a4538afdc54bc70c": {
          "model_module": "@jupyter-widgets/base",
          "model_name": "LayoutModel",
          "state": {
            "_view_name": "LayoutView",
            "grid_template_rows": null,
            "right": null,
            "justify_content": null,
            "_view_module": "@jupyter-widgets/base",
            "overflow": null,
            "_model_module_version": "1.2.0",
            "_view_count": null,
            "flex_flow": null,
            "width": null,
            "min_width": null,
            "border": null,
            "align_items": null,
            "bottom": null,
            "_model_module": "@jupyter-widgets/base",
            "top": null,
            "grid_column": null,
            "overflow_y": null,
            "overflow_x": null,
            "grid_auto_flow": null,
            "grid_area": null,
            "grid_template_columns": null,
            "flex": null,
            "_model_name": "LayoutModel",
            "justify_items": null,
            "grid_row": null,
            "max_height": null,
            "align_content": null,
            "visibility": null,
            "align_self": null,
            "height": null,
            "min_height": null,
            "padding": null,
            "grid_auto_rows": null,
            "grid_gap": null,
            "max_width": null,
            "order": null,
            "_view_module_version": "1.2.0",
            "grid_template_areas": null,
            "object_position": null,
            "object_fit": null,
            "grid_auto_columns": null,
            "margin": null,
            "display": null,
            "left": null
          }
        },
        "6c6c16f4e6014080b95b8e902f2bee29": {
          "model_module": "@jupyter-widgets/controls",
          "model_name": "DescriptionStyleModel",
          "state": {
            "_view_name": "StyleView",
            "_model_name": "DescriptionStyleModel",
            "description_width": "",
            "_view_module": "@jupyter-widgets/base",
            "_model_module_version": "1.5.0",
            "_view_count": null,
            "_view_module_version": "1.2.0",
            "_model_module": "@jupyter-widgets/controls"
          }
        },
        "365e94f2ee9f436ba1eb32a51e04a14e": {
          "model_module": "@jupyter-widgets/base",
          "model_name": "LayoutModel",
          "state": {
            "_view_name": "LayoutView",
            "grid_template_rows": null,
            "right": null,
            "justify_content": null,
            "_view_module": "@jupyter-widgets/base",
            "overflow": null,
            "_model_module_version": "1.2.0",
            "_view_count": null,
            "flex_flow": null,
            "width": null,
            "min_width": null,
            "border": null,
            "align_items": null,
            "bottom": null,
            "_model_module": "@jupyter-widgets/base",
            "top": null,
            "grid_column": null,
            "overflow_y": null,
            "overflow_x": null,
            "grid_auto_flow": null,
            "grid_area": null,
            "grid_template_columns": null,
            "flex": null,
            "_model_name": "LayoutModel",
            "justify_items": null,
            "grid_row": null,
            "max_height": null,
            "align_content": null,
            "visibility": null,
            "align_self": null,
            "height": null,
            "min_height": null,
            "padding": null,
            "grid_auto_rows": null,
            "grid_gap": null,
            "max_width": null,
            "order": null,
            "_view_module_version": "1.2.0",
            "grid_template_areas": null,
            "object_position": null,
            "object_fit": null,
            "grid_auto_columns": null,
            "margin": null,
            "display": null,
            "left": null
          }
        },
        "f684dab2b98f4949b90b690acbfd8e4b": {
          "model_module": "@jupyter-widgets/controls",
          "model_name": "HBoxModel",
          "state": {
            "_view_name": "HBoxView",
            "_dom_classes": [],
            "_model_name": "HBoxModel",
            "_view_module": "@jupyter-widgets/controls",
            "_model_module_version": "1.5.0",
            "_view_count": null,
            "_view_module_version": "1.5.0",
            "box_style": "",
            "layout": "IPY_MODEL_85714fb395804d86b764506c2b6cddd0",
            "_model_module": "@jupyter-widgets/controls",
            "children": [
              "IPY_MODEL_f1fa560579704677a836cdd0e0583fd4",
              "IPY_MODEL_a1e6de0ecfe04b07ace6d8ee58cde4b1"
            ]
          }
        },
        "85714fb395804d86b764506c2b6cddd0": {
          "model_module": "@jupyter-widgets/base",
          "model_name": "LayoutModel",
          "state": {
            "_view_name": "LayoutView",
            "grid_template_rows": null,
            "right": null,
            "justify_content": null,
            "_view_module": "@jupyter-widgets/base",
            "overflow": null,
            "_model_module_version": "1.2.0",
            "_view_count": null,
            "flex_flow": null,
            "width": null,
            "min_width": null,
            "border": null,
            "align_items": null,
            "bottom": null,
            "_model_module": "@jupyter-widgets/base",
            "top": null,
            "grid_column": null,
            "overflow_y": null,
            "overflow_x": null,
            "grid_auto_flow": null,
            "grid_area": null,
            "grid_template_columns": null,
            "flex": null,
            "_model_name": "LayoutModel",
            "justify_items": null,
            "grid_row": null,
            "max_height": null,
            "align_content": null,
            "visibility": null,
            "align_self": null,
            "height": null,
            "min_height": null,
            "padding": null,
            "grid_auto_rows": null,
            "grid_gap": null,
            "max_width": null,
            "order": null,
            "_view_module_version": "1.2.0",
            "grid_template_areas": null,
            "object_position": null,
            "object_fit": null,
            "grid_auto_columns": null,
            "margin": null,
            "display": null,
            "left": null
          }
        },
        "f1fa560579704677a836cdd0e0583fd4": {
          "model_module": "@jupyter-widgets/controls",
          "model_name": "FloatProgressModel",
          "state": {
            "_view_name": "ProgressView",
            "style": "IPY_MODEL_d6dd75e05a5b4928ad17f1d6f423f29a",
            "_dom_classes": [],
            "description": "100%",
            "_model_name": "FloatProgressModel",
            "bar_style": "success",
            "max": 1000,
            "_view_module": "@jupyter-widgets/controls",
            "_model_module_version": "1.5.0",
            "value": 1000,
            "_view_count": null,
            "_view_module_version": "1.5.0",
            "orientation": "horizontal",
            "min": 0,
            "description_tooltip": null,
            "_model_module": "@jupyter-widgets/controls",
            "layout": "IPY_MODEL_d9d6d95096244b1fb410970966e84f48"
          }
        },
        "a1e6de0ecfe04b07ace6d8ee58cde4b1": {
          "model_module": "@jupyter-widgets/controls",
          "model_name": "HTMLModel",
          "state": {
            "_view_name": "HTMLView",
            "style": "IPY_MODEL_128c18a7e2df41288ae06ab2f730920c",
            "_dom_classes": [],
            "description": "",
            "_model_name": "HTMLModel",
            "placeholder": "​",
            "_view_module": "@jupyter-widgets/controls",
            "_model_module_version": "1.5.0",
            "value": " 1000/1000 [00:02&lt;00:00, 488.48it/s]",
            "_view_count": null,
            "_view_module_version": "1.5.0",
            "description_tooltip": null,
            "_model_module": "@jupyter-widgets/controls",
            "layout": "IPY_MODEL_65f950634f934eb8ab3c61a5e546f9a5"
          }
        },
        "d6dd75e05a5b4928ad17f1d6f423f29a": {
          "model_module": "@jupyter-widgets/controls",
          "model_name": "ProgressStyleModel",
          "state": {
            "_view_name": "StyleView",
            "_model_name": "ProgressStyleModel",
            "description_width": "initial",
            "_view_module": "@jupyter-widgets/base",
            "_model_module_version": "1.5.0",
            "_view_count": null,
            "_view_module_version": "1.2.0",
            "bar_color": null,
            "_model_module": "@jupyter-widgets/controls"
          }
        },
        "d9d6d95096244b1fb410970966e84f48": {
          "model_module": "@jupyter-widgets/base",
          "model_name": "LayoutModel",
          "state": {
            "_view_name": "LayoutView",
            "grid_template_rows": null,
            "right": null,
            "justify_content": null,
            "_view_module": "@jupyter-widgets/base",
            "overflow": null,
            "_model_module_version": "1.2.0",
            "_view_count": null,
            "flex_flow": null,
            "width": null,
            "min_width": null,
            "border": null,
            "align_items": null,
            "bottom": null,
            "_model_module": "@jupyter-widgets/base",
            "top": null,
            "grid_column": null,
            "overflow_y": null,
            "overflow_x": null,
            "grid_auto_flow": null,
            "grid_area": null,
            "grid_template_columns": null,
            "flex": null,
            "_model_name": "LayoutModel",
            "justify_items": null,
            "grid_row": null,
            "max_height": null,
            "align_content": null,
            "visibility": null,
            "align_self": null,
            "height": null,
            "min_height": null,
            "padding": null,
            "grid_auto_rows": null,
            "grid_gap": null,
            "max_width": null,
            "order": null,
            "_view_module_version": "1.2.0",
            "grid_template_areas": null,
            "object_position": null,
            "object_fit": null,
            "grid_auto_columns": null,
            "margin": null,
            "display": null,
            "left": null
          }
        },
        "128c18a7e2df41288ae06ab2f730920c": {
          "model_module": "@jupyter-widgets/controls",
          "model_name": "DescriptionStyleModel",
          "state": {
            "_view_name": "StyleView",
            "_model_name": "DescriptionStyleModel",
            "description_width": "",
            "_view_module": "@jupyter-widgets/base",
            "_model_module_version": "1.5.0",
            "_view_count": null,
            "_view_module_version": "1.2.0",
            "_model_module": "@jupyter-widgets/controls"
          }
        },
        "65f950634f934eb8ab3c61a5e546f9a5": {
          "model_module": "@jupyter-widgets/base",
          "model_name": "LayoutModel",
          "state": {
            "_view_name": "LayoutView",
            "grid_template_rows": null,
            "right": null,
            "justify_content": null,
            "_view_module": "@jupyter-widgets/base",
            "overflow": null,
            "_model_module_version": "1.2.0",
            "_view_count": null,
            "flex_flow": null,
            "width": null,
            "min_width": null,
            "border": null,
            "align_items": null,
            "bottom": null,
            "_model_module": "@jupyter-widgets/base",
            "top": null,
            "grid_column": null,
            "overflow_y": null,
            "overflow_x": null,
            "grid_auto_flow": null,
            "grid_area": null,
            "grid_template_columns": null,
            "flex": null,
            "_model_name": "LayoutModel",
            "justify_items": null,
            "grid_row": null,
            "max_height": null,
            "align_content": null,
            "visibility": null,
            "align_self": null,
            "height": null,
            "min_height": null,
            "padding": null,
            "grid_auto_rows": null,
            "grid_gap": null,
            "max_width": null,
            "order": null,
            "_view_module_version": "1.2.0",
            "grid_template_areas": null,
            "object_position": null,
            "object_fit": null,
            "grid_auto_columns": null,
            "margin": null,
            "display": null,
            "left": null
          }
        }
      }
    }
  },
  "cells": [
    {
      "cell_type": "markdown",
      "metadata": {
        "id": "view-in-github",
        "colab_type": "text"
      },
      "source": [
        "<a href=\"https://colab.research.google.com/github/danielsaggau/causal-dyna-fair/blob/master/delayed_impact.ipynb\" target=\"_parent\"><img src=\"https://colab.research.google.com/assets/colab-badge.svg\" alt=\"Open In Colab\"/></a>"
      ]
    },
    {
      "cell_type": "markdown",
      "metadata": {
        "id": "xCgMlCrWqmcB"
      },
      "source": [
        "# Delayed Impact \n",
        "\n",
        "This notebook explores causal inference in the context of decision making with dynamics. As our starting point, we use the lending simulator introduced in [Delayed Impact of Fair Machine Learning](https://arxiv.org/abs/1803.04383). \n",
        "\n",
        "To connect this simulator with causal inference, we exploit it's representation as a structural causal model introduced in [Causal Modeling for Fairness in Dynamical Systems](https://arxiv.org/abs/1909.09141). All of the interventions we consider, including the \"credit bureau\" intervention, were introduced by Creager et al. For more details, see\n",
        "\n",
        "1. Creager, Elliot, et al. \"Causal Modeling for Fairness in Dynamical Systems.\" International Conference on Machine Learning. 2020.\n",
        "\n",
        "2. Liu, Lydia, et al. \"Delayed Impact of Fair Machine Learning.\" International Conference on Machine Learning. 2018."
      ]
    },
    {
      "cell_type": "code",
      "metadata": {
        "id": "fgbT2xlYqmcG"
      },
      "source": [
        "%load_ext autoreload\n",
        "%autoreload 2\n",
        "!pip install whynot"
      ],
      "execution_count": null,
      "outputs": []
    },
    {
      "cell_type": "code",
      "metadata": {
        "scrolled": true,
        "id": "W7yGrNc8qmcI"
      },
      "source": [
        "import matplotlib.pylab as plt\n",
        "from tqdm.auto import tqdm\n",
        "\n",
        "import whynot as wn\n",
        "import whynot.traceable_numpy as np\n",
        "\n",
        "from whynot.simulators.delayed_impact.simulator import INV_CDFS, GROUP_SIZE_RATIO"
      ],
      "execution_count": null,
      "outputs": []
    },
    {
      "cell_type": "markdown",
      "metadata": {
        "id": "IEccnXfzqmcJ"
      },
      "source": [
        "## Constructing the experiment"
      ]
    },
    {
      "cell_type": "markdown",
      "metadata": {
        "id": "zRo4O5ljqmcJ"
      },
      "source": [
        "For illustrative purposes, we show how to construct the credit bureau intervention from [Creager et al.](https://arxiv.org/abs/1909.09141) in WhyNot. The user writes a handful of small functions, each determining a different aspect of the causal experiment."
      ]
    },
    {
      "cell_type": "markdown",
      "metadata": {
        "id": "IO3q7qhMqmcK"
      },
      "source": [
        "### Sample initial states\n",
        "Each state in the delayed impact model consists of an agent parameterized by a binary \"group\" indicator and a credit score.\n",
        "We sample group membership and credit scores based on historical FICO data."
      ]
    },
    {
      "cell_type": "code",
      "metadata": {
        "id": "ZPR07tKxqmcL"
      },
      "source": [
        "def sample_initial_states(rng):\n",
        "    group = int(rng.uniform() < GROUP_SIZE_RATIO[1])\n",
        "    # Compute credit score via inverse CDF trick\n",
        "    score = INV_CDFS[group](rng.uniform())\n",
        "    return wn.delayed_impact.State(group=group, credit_score=score)"
      ],
      "execution_count": 5,
      "outputs": []
    },
    {
      "cell_type": "markdown",
      "metadata": {
        "id": "bqBtjjNLqmcM"
      },
      "source": [
        "### Set up simulator configuration\n",
        "The simulator is parameterized by lending thresholds for each group $\\tau_0$ and $\\tau_1$, which we instantiate as `parameters` to allow the user to vary them\n",
        "during experiments."
      ]
    },
    {
      "cell_type": "code",
      "metadata": {
        "id": "vn7G46wgqmcN"
      },
      "source": [
        "@wn.parameter(\n",
        "    name=\"threshold_g0\", default=550, description=\"Lending threshold for group 0\")\n",
        "@wn.parameter(\n",
        "    name=\"threshold_g1\", default=550, description=\"Lending threshold for group 1\")\n",
        "def construct_config(threshold_g0, threshold_g1):\n",
        "    \"\"\"Return the experimental config for runs without intervention\"\"\"\n",
        "    return wn.delayed_impact.Config(\n",
        "        start_time=0, end_time=1, threshold_g0=threshold_g0, threshold_g1=threshold_g1\n",
        "    )"
      ],
      "execution_count": 6,
      "outputs": []
    },
    {
      "cell_type": "markdown",
      "metadata": {
        "id": "DiZarN8hqmcO"
      },
      "source": [
        "### Define outcome measurement\n",
        "The outcome measurement we measure is the change in an agent's credit score from time step 0 to time step 1, along with the profit\n",
        "the bank earns for this individual."
      ]
    },
    {
      "cell_type": "code",
      "metadata": {
        "id": "6dF8XW-UqmcO"
      },
      "source": [
        "def extract_outcomes(run):\n",
        "    # Recall states are individuals in this model\n",
        "    agent_t0 = run.states[0]\n",
        "    agent_t1 = run.states[1]\n",
        "    return [agent_t1.credit_score - agent_t0.credit_score, agent_t1.profits]"
      ],
      "execution_count": 7,
      "outputs": []
    },
    {
      "cell_type": "markdown",
      "metadata": {
        "id": "eJViUqQKqmcP"
      },
      "source": [
        "### Define the intervention\n",
        "\n",
        "The intervention we consider is the implementation of a credit bureau that treats intermediates between the individual and the lender\n",
        "and reports credit scores of $\\min(\\text{score}, 600)$, as discussed in [Creager et al.](https://arxiv.org/abs/1909.09141)."
      ]
    },
    {
      "cell_type": "code",
      "metadata": {
        "id": "Izrh-3WxqmcQ"
      },
      "source": [
        "def creditscore_threshold(score):\n",
        "    \"\"\"Alternate credit bureau scoring policy.\"\"\"\n",
        "    return max(score, 600)\n",
        "\n",
        "def intervention():\n",
        "    return wn.delayed_impact.Intervention(credit_scorer=creditscore_threshold, time=0)"
      ],
      "execution_count": 8,
      "outputs": []
    },
    {
      "cell_type": "markdown",
      "metadata": {
        "id": "u7h-kAI-qmcQ"
      },
      "source": [
        "### Put the components together\n",
        "We put each of these components in a `DynamicsExperiment` object to create an the `CreditBureauExperiment`. Importantly, we assume all agents in the model\n",
        "have the credit bureau intervention, so they are \"treated\" in the causal inference sense with probability 1.0"
      ]
    },
    {
      "cell_type": "code",
      "metadata": {
        "id": "BIkSLz51qmcR"
      },
      "source": [
        "CreditBureauExperiment = wn.DynamicsExperiment(\n",
        "    name=\"CreditBureauExperiment\",\n",
        "    description=\"Intervention on the credit scoring mechanism.\",\n",
        "    simulator=wn.delayed_impact,\n",
        "    simulator_config=construct_config,\n",
        "    intervention=intervention,\n",
        "    state_sampler=sample_initial_states,\n",
        "    propensity_scorer=1.0,\n",
        "    outcome_extractor=extract_outcomes,\n",
        "    covariate_builder=lambda run: run.initial_state.group,\n",
        ")"
      ],
      "execution_count": 9,
      "outputs": []
    },
    {
      "cell_type": "markdown",
      "metadata": {
        "id": "YwfIq8SvqmcS"
      },
      "source": [
        "## Running the experiment\n",
        "\n",
        "Compute average credit score changes for the minority group, as well as institutional profits, as the credit score threshold for the minority varies from 300 to 800.\n",
        "Throughout, the majority threshold is fixed."
      ]
    },
    {
      "cell_type": "code",
      "metadata": {
        "colab": {
          "base_uri": "https://localhost:8080/",
          "height": 65,
          "referenced_widgets": [
            "65be138ed04249e1bdaf6eda53fe6282",
            "4a3801350bb34970955e2fff2e03e9a7",
            "11bbff26e3404fb7a3ebfab825ad90e3",
            "cc33b363f92e48c0bb017a4bd5894b58",
            "9b3e7c1f877e48d48c60a7f200ea8a71",
            "94717e1b0d1e43b3a4538afdc54bc70c",
            "6c6c16f4e6014080b95b8e902f2bee29",
            "365e94f2ee9f436ba1eb32a51e04a14e"
          ]
        },
        "id": "1lziZj-1qmcT",
        "outputId": "3a5c1778-83a8-49ce-9ba9-ead3f821308e"
      },
      "source": [
        "minority_thresholds = list(range(300, 800, 10))\n",
        "\n",
        "average_min_score_changes = []\n",
        "average_inst_profits = []\n",
        "for tau_0 in tqdm(minority_thresholds):\n",
        "    # Run the experiment to generate the dataset\n",
        "    dataset = CreditBureauExperiment.run(threshold_g0=tau_0, num_samples=1000, parallelize=True)    \n",
        "    \n",
        "    # Only consider score changes for the minority group\n",
        "    minority_locs = dataset.covariates[:, 0] == 0\n",
        "    minority_treated_locs = minority_locs & (dataset.treatments == 1)\n",
        "\n",
        "    score_changes = dataset.outcomes[:, 0]\n",
        "    minority_changes = score_changes[minority_treated_locs]\n",
        "    average_min_score_changes.append(np.mean(minority_changes))\n",
        "        \n",
        "    # Report profits over the entire group\n",
        "    ind_profits = dataset.outcomes[:, 1][dataset.treatments == 1]\n",
        "    average_inst_profits.append(np.mean(ind_profits))"
      ],
      "execution_count": 10,
      "outputs": [
        {
          "output_type": "display_data",
          "data": {
            "application/vnd.jupyter.widget-view+json": {
              "model_id": "65be138ed04249e1bdaf6eda53fe6282",
              "version_minor": 0,
              "version_major": 2
            },
            "text/plain": [
              "HBox(children=(FloatProgress(value=0.0, max=50.0), HTML(value='')))"
            ]
          },
          "metadata": {
            "tags": []
          }
        },
        {
          "output_type": "stream",
          "text": [
            "\n"
          ],
          "name": "stdout"
        }
      ]
    },
    {
      "cell_type": "markdown",
      "metadata": {
        "id": "Uxd_4DtEqmcW"
      },
      "source": [
        "## Visualizing the results"
      ]
    },
    {
      "cell_type": "code",
      "metadata": {
        "colab": {
          "base_uri": "https://localhost:8080/",
          "height": 387
        },
        "id": "a8gPYKaqqmcW",
        "outputId": "c8690bff-fb09-46c9-b0dc-7f0d5566555e"
      },
      "source": [
        "_, axs = plt.subplots(1, 2, figsize=(12, 6))\n",
        "axs[0].plot(minority_thresholds, average_min_score_changes, label=\"Average Minority\\n Score Change\")\n",
        "axs[0].plot([600] * 20, np.linspace(-60, 20, 20), label=\"Credit Bureau Cutoff\", linestyle=\"--\", color=\"black\")\n",
        "axs[0].legend()\n",
        "axs[0].set_xlabel(\"Minority Threshold\")\n",
        "axs[0].set_ylabel(\"Score Change\")\n",
        "axs[1].plot(minority_thresholds, average_inst_profits, label=\"Average Profit\")\n",
        "axs[1].plot([600] * 20, np.linspace(0, 0.5, 20), label=\"Credit Bureau Cutoff\", linestyle=\"--\", color=\"black\")\n",
        "axs[1].set_xlabel(\"Minority Threshold\")\n",
        "axs[1].set_ylabel(\"Institutional Profit\")\n",
        "axs[1].legend();"
      ],
      "execution_count": 14,
      "outputs": [
        {
          "output_type": "display_data",
          "data": {
            "image/png": "[encoded data removed]",
            "text/plain": [
              "<Figure size 864x432 with 2 Axes>"
            ]
          },
          "metadata": {
            "tags": [],
            "needs_background": "light"
          }
        }
      ]
    },
    {
      "cell_type": "markdown",
      "metadata": {
        "id": "b13fCZ0AqmcX"
      },
      "source": [
        "# Treatment effect estimation with confounding\n",
        "\n",
        "Now, we slightly modify the CreditBureau example to show how WhyNot can also be used to address causal inference questions. Rather than exposing all agents to the credit bureau intervention, we imagine\n",
        "members of the minority group are more likely to receive the credit bureau intervention (75% chance) compared to members of the majority group (20% chance). Using this data, we wish to estimate the population-level causal effect of the credit intervention.\n"
      ]
    },
    {
      "cell_type": "markdown",
      "metadata": {
        "id": "J2K8K8hlqmcY"
      },
      "source": [
        "## Constructing the experiment\n",
        "\n",
        "We slightly modify the `CreditBureauExperiment` to include confounded treatment assignment by changing the ``propensity_scorer`` function."
      ]
    },
    {
      "cell_type": "code",
      "metadata": {
        "id": "yJy4D6xpqmcZ"
      },
      "source": [
        "def propensity_scorer(untreated_run):\n",
        "    \"\"\"Assign minority to treatment 75% of the time, compared to 25% for the majority\"\"\"\n",
        "    return  0.75 * (untreated_run.initial_state.group == 0) + 0.2 * (untreated_run.initial_state.group == 1)"
      ],
      "execution_count": 15,
      "outputs": []
    },
    {
      "cell_type": "code",
      "metadata": {
        "scrolled": true,
        "id": "tTy7Fm1SqmcZ"
      },
      "source": [
        "BiasedCreditBureauExperiment = wn.DynamicsExperiment(\n",
        "    name=\"BiasedCreditBureauExperiment\",\n",
        "    description=\"Intervention on the credit scoring mechanism, with treatment bias.\",\n",
        "    simulator=wn.delayed_impact,\n",
        "    simulator_config=construct_config,\n",
        "    intervention=intervention,\n",
        "    state_sampler=sample_initial_states,\n",
        "    propensity_scorer=propensity_scorer,\n",
        "    outcome_extractor=extract_outcomes,\n",
        "    # Only covariate is group membership, which is a confounder for this experiment.\n",
        "    covariate_builder=lambda run: [run.initial_state.group, run.initial_state.credit_score]\n",
        ")"
      ],
      "execution_count": 16,
      "outputs": []
    },
    {
      "cell_type": "markdown",
      "metadata": {
        "id": "twFjXvQdqmca"
      },
      "source": [
        "## Running the experiment and generating causal graphs"
      ]
    },
    {
      "cell_type": "markdown",
      "metadata": {
        "id": "sOwT69Fxqmcb"
      },
      "source": [
        "Run the experiment to generate an observational dataset. Using `causal_graph=True` generates the causal graph associated with the experiment."
      ]
    },
    {
      "cell_type": "code",
      "metadata": {
        "colab": {
          "base_uri": "https://localhost:8080/",
          "height": 65,
          "referenced_widgets": [
            "f684dab2b98f4949b90b690acbfd8e4b",
            "85714fb395804d86b764506c2b6cddd0",
            "f1fa560579704677a836cdd0e0583fd4",
            "a1e6de0ecfe04b07ace6d8ee58cde4b1",
            "d6dd75e05a5b4928ad17f1d6f423f29a",
            "d9d6d95096244b1fb410970966e84f48",
            "128c18a7e2df41288ae06ab2f730920c",
            "65f950634f934eb8ab3c61a5e546f9a5"
          ]
        },
        "id": "Ri850RZTqmcb",
        "outputId": "1a1284d5-cdad-4de0-b094-1c4a9ab22ede"
      },
      "source": [
        "dataset = BiasedCreditBureauExperiment.run(num_samples=1000, causal_graph=True, show_progress=True)"
      ],
      "execution_count": 17,
      "outputs": [
        {
          "output_type": "display_data",
          "data": {
            "application/vnd.jupyter.widget-view+json": {
              "model_id": "f684dab2b98f4949b90b690acbfd8e4b",
              "version_minor": 0,
              "version_major": 2
            },
            "text/plain": [
              "HBox(children=(FloatProgress(value=0.0, max=1000.0), HTML(value='')))"
            ]
          },
          "metadata": {
            "tags": []
          }
        },
        {
          "output_type": "stream",
          "text": [
            "\n"
          ],
          "name": "stdout"
        }
      ]
    },
    {
      "cell_type": "markdown",
      "metadata": {
        "id": "-v6htTf3qmcc"
      },
      "source": [
        "## Estimating treatment effects"
      ]
    },
    {
      "cell_type": "code",
      "metadata": {
        "colab": {
          "base_uri": "https://localhost:8080/"
        },
        "id": "kiDuNDGrqmcd",
        "outputId": "76d77b42-897f-418e-a40a-9bf6e12f90aa"
      },
      "source": [
        "covariates, treatment, outcome = dataset.covariates, dataset.treatments, dataset.outcomes\n",
        "score_changes = dataset.outcomes[:, 0]\n",
        "\n",
        "inference_result = wn.algorithms.ols.estimate_treatment_effect(\n",
        "    covariates, treatment, score_changes)\n",
        "\n",
        "print(\"Estimated ATE: {:.2f} ({:.2f}, {:.2f})\".format(inference_result.ate, *inference_result.ci))\n",
        "print(\"True ATE: {:.2f}\".format(np.mean(dataset.true_effects[:, 0])))"
      ],
      "execution_count": 18,
      "outputs": [
        {
          "output_type": "stream",
          "text": [
            "Estimated ATE: -14.40 (-24.72, -4.08)\n",
            "True ATE: -15.58\n"
          ],
          "name": "stdout"
        }
      ]
    },
    {
      "cell_type": "markdown",
      "metadata": {
        "id": "Kcb2idFnqmcd"
      },
      "source": [
        "## Inspecting the causal graph\n",
        "\n",
        "The causal graph is a `networkx.Digraph` that can easily be connected to graphical methods for estimating treatment effects, e.g. [DoWhy](https://github.com/microsoft/dowhy). \n",
        "For a complete example, see [here](https://github.com/zykls/whynot/blob/master/examples/causal_inference/graphical_methods.ipynb)."
      ]
    },
    {
      "cell_type": "code",
      "metadata": {
        "colab": {
          "base_uri": "https://localhost:8080/"
        },
        "id": "kGtI5AZqqmce",
        "outputId": "bbb3ade8-65e5-4cd2-9b83-385a504f7882"
      },
      "source": [
        "graph = dataset.causal_graph\n",
        "print(\"## NODES ##\")\n",
        "for node in graph.nodes:\n",
        "    print(node)\n",
        "print(\"\\n## EDGES ##\\n\")\n",
        "for edge in graph.edges:\n",
        "    print(edge)"
      ],
      "execution_count": 19,
      "outputs": [
        {
          "output_type": "stream",
          "text": [
            "## NODES ##\n",
            "group_0\n",
            "credit_score_0\n",
            "profits_0\n",
            "PARAM:credit_scorer_0\n",
            "PARAM:threshold_g0_0\n",
            "PARAM:threshold_g1_0\n",
            "PARAM:repayment_utility_0\n",
            "PARAM:default_utility_0\n",
            "PARAM:repayment_score_change_0\n",
            "PARAM:default_score_change_0\n",
            "PARAM:min_score_0\n",
            "PARAM:max_score_0\n",
            "group_1\n",
            "credit_score_1\n",
            "profits_1\n",
            "PARAM:credit_scorer_1\n",
            "PARAM:threshold_g0_1\n",
            "PARAM:threshold_g1_1\n",
            "PARAM:repayment_utility_1\n",
            "PARAM:default_utility_1\n",
            "PARAM:repayment_score_change_1\n",
            "PARAM:default_score_change_1\n",
            "PARAM:min_score_1\n",
            "PARAM:max_score_1\n",
            "Treatment\n",
            "Outcome\n",
            "\n",
            "## EDGES ##\n",
            "\n",
            "('group_0', 'group_1')\n",
            "('group_0', 'credit_score_1')\n",
            "('group_0', 'profits_1')\n",
            "('group_0', 'Treatment')\n",
            "('credit_score_0', 'credit_score_1')\n",
            "('credit_score_0', 'profits_1')\n",
            "('credit_score_0', 'Outcome')\n",
            "('profits_0', 'profits_1')\n",
            "('PARAM:credit_scorer_0', 'credit_score_1')\n",
            "('PARAM:credit_scorer_0', 'profits_1')\n",
            "('PARAM:threshold_g0_0', 'credit_score_1')\n",
            "('PARAM:threshold_g0_0', 'profits_1')\n",
            "('PARAM:threshold_g1_0', 'credit_score_1')\n",
            "('PARAM:threshold_g1_0', 'profits_1')\n",
            "('PARAM:repayment_utility_0', 'profits_1')\n",
            "('PARAM:default_utility_0', 'profits_1')\n",
            "('PARAM:repayment_score_change_0', 'credit_score_1')\n",
            "('PARAM:default_score_change_0', 'credit_score_1')\n",
            "('PARAM:min_score_0', 'credit_score_1')\n",
            "('PARAM:max_score_0', 'credit_score_1')\n",
            "('credit_score_1', 'Outcome')\n",
            "('Treatment', 'PARAM:credit_scorer_0')\n",
            "('Treatment', 'PARAM:credit_scorer_1')\n"
          ],
          "name": "stdout"
        }
      ]
    }
  ]
}