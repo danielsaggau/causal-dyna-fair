{
  "nbformat": 4,
  "nbformat_minor": 0,
  "metadata": {
    "colab": {
      "name": "lalonde.ipynb",
      "provenance": [],
      "authorship_tag": "ABX9TyMQiFaK9EPqULzP9Msqj7Xu",
      "include_colab_link": true
    },
    "kernelspec": {
      "name": "python3",
      "display_name": "Python 3"
    },
    "language_info": {
      "name": "python"
    }
  },
  "cells": [
    {
      "cell_type": "markdown",
      "metadata": {
        "id": "view-in-github",
        "colab_type": "text"
      },
      "source": [
        "<a href=\"https://colab.research.google.com/github/danielsaggau/causal-dyna-fair/blob/master/lalonde.ipynb\" target=\"_parent\"><img src=\"https://colab.research.google.com/assets/colab-badge.svg\" alt=\"Open In Colab\"/></a>"
      ]
    },
    {
      "cell_type": "markdown",
      "metadata": {
        "id": "X280aoH35mLW"
      },
      "source": [
        "# Lalonde: Setting up Analysis with simulated outcome variable"
      ]
    },
    {
      "cell_type": "code",
      "metadata": {
        "id": "X7Zl-km58GLb"
      },
      "source": [
        "import os\n",
        "\n",
        "import numpy as np\n",
        "import pandas as pd\n",
        "!pip install whynot\n",
        "from whynot.framework import GenericExperiment, parameter\n",
        "\n",
        "__all__ = [\"get_experiments\", \"RandomResponse\"]"
      ],
      "execution_count": null,
      "outputs": []
    },
    {
      "cell_type": "code",
      "metadata": {
        "id": "jy1FJ9Np5gFN"
      },
      "source": [
        "# data loader\n",
        "\n",
        "def load_dataset():\n",
        "    \"\"\"Load the LaLonde dataset.\"\"\"\n",
        "    dir_path = os.path.dirname(os.path.abspath(__file__))\n",
        "    data_path = os.path.join(dir_path, \"lalonde.csv\")\n",
        "\n",
        "    lalonde = pd.read_csv(data_path, index_col=0)\n",
        "\n",
        "    # Remove outcome\n",
        "    lalonde = lalonde.drop(\"re78\", axis=1)\n",
        "\n",
        "    return lalonde.rename(columns={\"treat\": \"treatment\"})\n"
      ],
      "execution_count": 3,
      "outputs": []
    },
    {
      "cell_type": "code",
      "metadata": {
        "id": "0mCHW1iO8Z59"
      },
      "source": [
        "def get_experiments():\n",
        "    \"\"\"Return all of the LaLonde experiments.\"\"\"\n",
        "    return [RandomResponse]"
      ],
      "execution_count": 4,
      "outputs": []
    },
    {
      "cell_type": "code",
      "metadata": {
        "id": "pEBnVTeP8nEI"
      },
      "source": [
        "@parameter(\n",
        "    name=\"hidden_dim\",\n",
        "    default=32,\n",
        "    values=[8, 16, 32, 64, 128, 256, 512],\n",
        "    description=\"hidden dimension of 2-layer ReLu network response.\",\n",
        "    )\n",
        "@parameter(\n",
        "    name=\"alpha_scale\",\n",
        "    default=0.01,\n",
        "    values=np.linspace(1e-4, 10, 10),\n",
        "    description=\"Scale of the hidden-layer weights.\",\n",
        "    )\n",
        "def run_lalonde(\n",
        "    num_samples,\n",
        "    hidden_dim,\n",
        "    alpha_scale,\n",
        "    seed=None,\n",
        "    parallelize=True,\n",
        "    show_progress=False,\n",
        "):\n",
        "   rng = np.random.RandomState(seed)"
      ],
      "execution_count": 11,
      "outputs": []
    },
    {
      "cell_type": "code",
      "metadata": {
        "id": "6rtkLhit8kWh"
      },
      "source": [
        " # pylint:disable-msg=unused-argument\n",
        "    \"\"\"Generate data from the LaLonde dataset with a random response function.\n",
        "    The covariates and treatment are both specified by the dataset, and the\n",
        "    response function is a random 2-layer neural network with ReLu.\n",
        "    Parameters\n",
        "    ----------\n",
        "        num_samples: int\n",
        "            This parameter is ignored since the LaLonde dataset size is fixed.\n",
        "        hidden_dim: int\n",
        "            Hidden dimension of the relu network.\n",
        "        alpha_scale: float\n",
        "            Standard deviation of the final layer weights.\n",
        "        seed: int\n",
        "            Random seed used for all internal randomness\n",
        "        parallelize: bool\n",
        "            Ignored, but included for consistency with GenericExperiment API.\n",
        "        show_progress: False\n",
        "            Ignored, but included for consistency with GenericExperiment API.\n",
        "    \"\"\""
      ],
      "execution_count": 5,
      "outputs": []
    },
    {
      "cell_type": "code",
      "metadata": {
        "id": "ZIzgzfkS8x2q"
      },
      "source": [
        "# loading the data\n",
        "dataset = load_dataset()\n",
        "treatment = dataset.treatment.values.astype(np.int64)\n",
        "covariates = dataset.drop(\"treatment\", axis=1).values "
      ],
      "execution_count": null,
      "outputs": []
    },
    {
      "cell_type": "code",
      "metadata": {
        "id": "gY_uUewY8rxF"
      },
      "source": [
        "    # Define the networks\n",
        "    num_inputs = covariates.shape[1]\n",
        "    control_config = {\n",
        "        \"W\": 0.05 * rng.randn(num_inputs, hidden_dim),\n",
        "        \"alpha\": alpha_scale * rng.randn(hidden_dim, 1),\n",
        "    }\n",
        "\n",
        "    treatment_config = {\n",
        "        \"W\": 0.05 * rng.randn(num_inputs, hidden_dim),\n",
        "        \"alpha\": alpha_scale * rng.randn(hidden_dim, 1),\n",
        "    }\n",
        "\n",
        "    def get_effect(features, treatment):\n",
        "        if treatment:\n",
        "            config = treatment_config\n",
        "        else:\n",
        "            config = control_config\n",
        "        return np.maximum(features.dot(config[\"W\"]), 0).dot(config[\"alpha\"])[:, 0]\n",
        "\n",
        "    control_outcomes = get_effect(covariates, treatment=False)\n",
        "    treatment_outcomes = get_effect(covariates, treatment=True)\n",
        "\n",
        "    outcomes = np.copy(control_outcomes)\n",
        "    treatment_idxs = np.where(treatment == 1.0)\n",
        "    outcomes[treatment_idxs] = treatment_outcomes[treatment_idxs]\n",
        "\n",
        "    return (covariates, treatment, outcomes), treatment_outcomes - control_outcomes"
      ],
      "execution_count": null,
      "outputs": []
    },
    {
      "cell_type": "code",
      "metadata": {
        "id": "1tFzgyWQ9RAq"
      },
      "source": [
        "# setting up random response\n",
        "RandomResponse = GenericExperiment(\n",
        "    name=\"lalonde\",\n",
        "    description=(\n",
        "        \"An experiment on the LaLone dataset with fixed covariates \"\n",
        "        \"and random 2-layer Relu NN for the response.\"\n",
        "    ),\n",
        "    run_method=run_lalonde,\n",
        ")"
      ],
      "execution_count": null,
      "outputs": []
    }
  ]
}